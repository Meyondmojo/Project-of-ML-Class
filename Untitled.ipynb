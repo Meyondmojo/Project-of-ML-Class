{
 "cells": [
  {
   "cell_type": "code",
   "execution_count": 20,
   "metadata": {},
   "outputs": [],
   "source": [
    "import pandas as pd\n",
    "import numpy as np\n",
    "import random"
   ]
  },
  {
   "cell_type": "code",
   "execution_count": 10,
   "metadata": {},
   "outputs": [],
   "source": [
    "dataset = pd.DataFrame(pd.read_csv('./SCMS_Delivery_History_Dataset.csv'))"
   ]
  },
  {
   "cell_type": "code",
   "execution_count": 25,
   "metadata": {},
   "outputs": [
    {
     "data": {
      "text/plain": [
       "(10324, 33)"
      ]
     },
     "execution_count": 25,
     "metadata": {},
     "output_type": "execute_result"
    }
   ],
   "source": [
    "dataset.shape"
   ]
  },
  {
   "cell_type": "code",
   "execution_count": 46,
   "metadata": {},
   "outputs": [],
   "source": [
    "dataset_ori['On Time'] = dataset['Delivered to Client Date']==dataset['Scheduled Delivery Date']"
   ]
  },
  {
   "cell_type": "code",
   "execution_count": 49,
   "metadata": {},
   "outputs": [],
   "source": [
    "dataset_china = dataset_ori[dataset_ori['Country']=='China']\n",
    "dataset_US = dataset_ori[dataset_ori['Country']=='US']"
   ]
  },
  {
   "cell_type": "code",
   "execution_count": 72,
   "metadata": {},
   "outputs": [
    {
     "data": {
      "text/html": [
       "<div>\n",
       "<style scoped>\n",
       "    .dataframe tbody tr th:only-of-type {\n",
       "        vertical-align: middle;\n",
       "    }\n",
       "\n",
       "    .dataframe tbody tr th {\n",
       "        vertical-align: top;\n",
       "    }\n",
       "\n",
       "    .dataframe thead th {\n",
       "        text-align: right;\n",
       "    }\n",
       "</style>\n",
       "<table border=\"1\" class=\"dataframe\">\n",
       "  <thead>\n",
       "    <tr style=\"text-align: right;\">\n",
       "      <th></th>\n",
       "      <th>ID</th>\n",
       "      <th>Unit of Measure (Per Pack)</th>\n",
       "      <th>Line Item Quantity</th>\n",
       "      <th>Line Item Value</th>\n",
       "      <th>Pack Price</th>\n",
       "      <th>Unit Price</th>\n",
       "      <th>Line Item Insurance (USD)</th>\n",
       "      <th>On Time</th>\n",
       "    </tr>\n",
       "    <tr>\n",
       "      <th>Shipment Mode</th>\n",
       "      <th></th>\n",
       "      <th></th>\n",
       "      <th></th>\n",
       "      <th></th>\n",
       "      <th></th>\n",
       "      <th></th>\n",
       "      <th></th>\n",
       "      <th></th>\n",
       "    </tr>\n",
       "  </thead>\n",
       "  <tbody>\n",
       "    <tr>\n",
       "      <th>Air</th>\n",
       "      <td>44947.163586</td>\n",
       "      <td>82.342549</td>\n",
       "      <td>9143.640275</td>\n",
       "      <td>102615.072379</td>\n",
       "      <td>27.984085</td>\n",
       "      <td>0.816660</td>\n",
       "      <td>162.401546</td>\n",
       "      <td>0.710453</td>\n",
       "    </tr>\n",
       "    <tr>\n",
       "      <th>Air Charter</th>\n",
       "      <td>75009.315385</td>\n",
       "      <td>55.415385</td>\n",
       "      <td>45352.953846</td>\n",
       "      <td>379034.201769</td>\n",
       "      <td>8.638462</td>\n",
       "      <td>0.187400</td>\n",
       "      <td>543.556585</td>\n",
       "      <td>0.189231</td>\n",
       "    </tr>\n",
       "    <tr>\n",
       "      <th>Ocean</th>\n",
       "      <td>47649.401617</td>\n",
       "      <td>71.832884</td>\n",
       "      <td>65314.692722</td>\n",
       "      <td>340102.274367</td>\n",
       "      <td>6.568949</td>\n",
       "      <td>0.152480</td>\n",
       "      <td>567.808518</td>\n",
       "      <td>0.784367</td>\n",
       "    </tr>\n",
       "    <tr>\n",
       "      <th>Truck</th>\n",
       "      <td>64488.961837</td>\n",
       "      <td>72.593640</td>\n",
       "      <td>26803.161484</td>\n",
       "      <td>207555.607456</td>\n",
       "      <td>13.230212</td>\n",
       "      <td>0.251201</td>\n",
       "      <td>294.259442</td>\n",
       "      <td>0.437456</td>\n",
       "    </tr>\n",
       "  </tbody>\n",
       "</table>\n",
       "</div>"
      ],
      "text/plain": [
       "                         ID  Unit of Measure (Per Pack)  Line Item Quantity  \\\n",
       "Shipment Mode                                                                 \n",
       "Air            44947.163586                   82.342549         9143.640275   \n",
       "Air Charter    75009.315385                   55.415385        45352.953846   \n",
       "Ocean          47649.401617                   71.832884        65314.692722   \n",
       "Truck          64488.961837                   72.593640        26803.161484   \n",
       "\n",
       "               Line Item Value  Pack Price  Unit Price  \\\n",
       "Shipment Mode                                            \n",
       "Air              102615.072379   27.984085    0.816660   \n",
       "Air Charter      379034.201769    8.638462    0.187400   \n",
       "Ocean            340102.274367    6.568949    0.152480   \n",
       "Truck            207555.607456   13.230212    0.251201   \n",
       "\n",
       "               Line Item Insurance (USD)   On Time  \n",
       "Shipment Mode                                       \n",
       "Air                           162.401546  0.710453  \n",
       "Air Charter                   543.556585  0.189231  \n",
       "Ocean                         567.808518  0.784367  \n",
       "Truck                         294.259442  0.437456  "
      ]
     },
     "execution_count": 72,
     "metadata": {},
     "output_type": "execute_result"
    }
   ],
   "source": [
    "dataset_method.mean()"
   ]
  },
  {
   "cell_type": "code",
   "execution_count": 104,
   "metadata": {},
   "outputs": [
    {
     "data": {
      "text/plain": [
       "(4722, 36)"
      ]
     },
     "execution_count": 104,
     "metadata": {},
     "output_type": "execute_result"
    }
   ],
   "source": [
    "dataset_China.shape"
   ]
  },
  {
   "cell_type": "code",
   "execution_count": 106,
   "metadata": {},
   "outputs": [
    {
     "data": {
      "text/html": [
       "<div>\n",
       "<style scoped>\n",
       "    .dataframe tbody tr th:only-of-type {\n",
       "        vertical-align: middle;\n",
       "    }\n",
       "\n",
       "    .dataframe tbody tr th {\n",
       "        vertical-align: top;\n",
       "    }\n",
       "\n",
       "    .dataframe thead th {\n",
       "        text-align: right;\n",
       "    }\n",
       "</style>\n",
       "<table border=\"1\" class=\"dataframe\">\n",
       "  <thead>\n",
       "    <tr style=\"text-align: right;\">\n",
       "      <th></th>\n",
       "      <th>ID</th>\n",
       "      <th>Project Code</th>\n",
       "      <th>PQ #</th>\n",
       "      <th>PO / SO #</th>\n",
       "      <th>ASN/DN #</th>\n",
       "      <th>Country</th>\n",
       "      <th>Managed By</th>\n",
       "      <th>Fulfill Via</th>\n",
       "      <th>Vendor INCO Term</th>\n",
       "      <th>Shipment Mode</th>\n",
       "      <th>...</th>\n",
       "      <th>Pack Price</th>\n",
       "      <th>Unit Price</th>\n",
       "      <th>Manufacturing Site</th>\n",
       "      <th>First Line Designation</th>\n",
       "      <th>Weight (Kilograms)</th>\n",
       "      <th>Freight Cost (USD)</th>\n",
       "      <th>Line Item Insurance (USD)</th>\n",
       "      <th>On Time</th>\n",
       "      <th>Missed</th>\n",
       "      <th>Shipment Days</th>\n",
       "    </tr>\n",
       "  </thead>\n",
       "  <tbody>\n",
       "    <tr>\n",
       "      <th>1</th>\n",
       "      <td>3</td>\n",
       "      <td>108-VN-T01</td>\n",
       "      <td>Pre-PQ Process</td>\n",
       "      <td>SCMS-13</td>\n",
       "      <td>ASN-85</td>\n",
       "      <td>China</td>\n",
       "      <td>PMO - US</td>\n",
       "      <td>Direct Drop</td>\n",
       "      <td>EXW</td>\n",
       "      <td>Air</td>\n",
       "      <td>...</td>\n",
       "      <td>6.20</td>\n",
       "      <td>0.03</td>\n",
       "      <td>Aurobindo Unit III, India</td>\n",
       "      <td>Yes</td>\n",
       "      <td>358</td>\n",
       "      <td>4521.5</td>\n",
       "      <td>NaN</td>\n",
       "      <td>1</td>\n",
       "      <td>0</td>\n",
       "      <td>3</td>\n",
       "    </tr>\n",
       "    <tr>\n",
       "      <th>3</th>\n",
       "      <td>15</td>\n",
       "      <td>108-VN-T01</td>\n",
       "      <td>Pre-PQ Process</td>\n",
       "      <td>SCMS-78</td>\n",
       "      <td>ASN-50</td>\n",
       "      <td>China</td>\n",
       "      <td>PMO - US</td>\n",
       "      <td>Direct Drop</td>\n",
       "      <td>EXW</td>\n",
       "      <td>Air</td>\n",
       "      <td>...</td>\n",
       "      <td>3.99</td>\n",
       "      <td>0.07</td>\n",
       "      <td>Ranbaxy, Paonta Shahib, India</td>\n",
       "      <td>Yes</td>\n",
       "      <td>1855</td>\n",
       "      <td>16007.06</td>\n",
       "      <td>NaN</td>\n",
       "      <td>1</td>\n",
       "      <td>0</td>\n",
       "      <td>5</td>\n",
       "    </tr>\n",
       "    <tr>\n",
       "      <th>4</th>\n",
       "      <td>16</td>\n",
       "      <td>108-VN-T01</td>\n",
       "      <td>Pre-PQ Process</td>\n",
       "      <td>SCMS-81</td>\n",
       "      <td>ASN-55</td>\n",
       "      <td>China</td>\n",
       "      <td>PMO - US</td>\n",
       "      <td>Direct Drop</td>\n",
       "      <td>EXW</td>\n",
       "      <td>Air</td>\n",
       "      <td>...</td>\n",
       "      <td>3.20</td>\n",
       "      <td>0.05</td>\n",
       "      <td>Aurobindo Unit III, India</td>\n",
       "      <td>Yes</td>\n",
       "      <td>7590</td>\n",
       "      <td>45450.08</td>\n",
       "      <td>NaN</td>\n",
       "      <td>1</td>\n",
       "      <td>0</td>\n",
       "      <td>3</td>\n",
       "    </tr>\n",
       "    <tr>\n",
       "      <th>6</th>\n",
       "      <td>44</td>\n",
       "      <td>110-ZM-T01</td>\n",
       "      <td>Pre-PQ Process</td>\n",
       "      <td>SCMS-139</td>\n",
       "      <td>ASN-130</td>\n",
       "      <td>China</td>\n",
       "      <td>PMO - US</td>\n",
       "      <td>Direct Drop</td>\n",
       "      <td>DDU</td>\n",
       "      <td>Air</td>\n",
       "      <td>...</td>\n",
       "      <td>32.40</td>\n",
       "      <td>0.36</td>\n",
       "      <td>MSD South Granville Australia</td>\n",
       "      <td>Yes</td>\n",
       "      <td>328</td>\n",
       "      <td>Freight Included in Commodity Cost</td>\n",
       "      <td>NaN</td>\n",
       "      <td>1</td>\n",
       "      <td>0</td>\n",
       "      <td>3</td>\n",
       "    </tr>\n",
       "    <tr>\n",
       "      <th>12</th>\n",
       "      <td>62</td>\n",
       "      <td>102-NG-T01</td>\n",
       "      <td>Pre-PQ Process</td>\n",
       "      <td>SCMS-230</td>\n",
       "      <td>ASN-144</td>\n",
       "      <td>China</td>\n",
       "      <td>PMO - US</td>\n",
       "      <td>Direct Drop</td>\n",
       "      <td>EXW</td>\n",
       "      <td>Air</td>\n",
       "      <td>...</td>\n",
       "      <td>85.00</td>\n",
       "      <td>0.85</td>\n",
       "      <td>EY Laboratories, USA</td>\n",
       "      <td>Yes</td>\n",
       "      <td>Weight Captured Separately</td>\n",
       "      <td>Invoiced Separately</td>\n",
       "      <td>NaN</td>\n",
       "      <td>1</td>\n",
       "      <td>0</td>\n",
       "      <td>2</td>\n",
       "    </tr>\n",
       "  </tbody>\n",
       "</table>\n",
       "<p>5 rows × 36 columns</p>\n",
       "</div>"
      ],
      "text/plain": [
       "    ID Project Code            PQ # PO / SO # ASN/DN # Country Managed By  \\\n",
       "1    3   108-VN-T01  Pre-PQ Process   SCMS-13   ASN-85   China   PMO - US   \n",
       "3   15   108-VN-T01  Pre-PQ Process   SCMS-78   ASN-50   China   PMO - US   \n",
       "4   16   108-VN-T01  Pre-PQ Process   SCMS-81   ASN-55   China   PMO - US   \n",
       "6   44   110-ZM-T01  Pre-PQ Process  SCMS-139  ASN-130   China   PMO - US   \n",
       "12  62   102-NG-T01  Pre-PQ Process  SCMS-230  ASN-144   China   PMO - US   \n",
       "\n",
       "    Fulfill Via Vendor INCO Term Shipment Mode      ...      Pack Price  \\\n",
       "1   Direct Drop              EXW           Air      ...            6.20   \n",
       "3   Direct Drop              EXW           Air      ...            3.99   \n",
       "4   Direct Drop              EXW           Air      ...            3.20   \n",
       "6   Direct Drop              DDU           Air      ...           32.40   \n",
       "12  Direct Drop              EXW           Air      ...           85.00   \n",
       "\n",
       "   Unit Price             Manufacturing Site First Line Designation  \\\n",
       "1        0.03      Aurobindo Unit III, India                    Yes   \n",
       "3        0.07  Ranbaxy, Paonta Shahib, India                    Yes   \n",
       "4        0.05      Aurobindo Unit III, India                    Yes   \n",
       "6        0.36  MSD South Granville Australia                    Yes   \n",
       "12       0.85           EY Laboratories, USA                    Yes   \n",
       "\n",
       "            Weight (Kilograms)                  Freight Cost (USD)  \\\n",
       "1                          358                              4521.5   \n",
       "3                         1855                            16007.06   \n",
       "4                         7590                            45450.08   \n",
       "6                          328  Freight Included in Commodity Cost   \n",
       "12  Weight Captured Separately                 Invoiced Separately   \n",
       "\n",
       "   Line Item Insurance (USD) On Time Missed Shipment Days  \n",
       "1                        NaN       1      0             3  \n",
       "3                        NaN       1      0             5  \n",
       "4                        NaN       1      0             3  \n",
       "6                        NaN       1      0             3  \n",
       "12                       NaN       1      0             2  \n",
       "\n",
       "[5 rows x 36 columns]"
      ]
     },
     "execution_count": 106,
     "metadata": {},
     "output_type": "execute_result"
    }
   ],
   "source": [
    "dataset_China.head()"
   ]
  },
  {
   "cell_type": "code",
   "execution_count": 118,
   "metadata": {},
   "outputs": [
    {
     "data": {
      "text/plain": [
       "(5242, 36)"
      ]
     },
     "execution_count": 118,
     "metadata": {},
     "output_type": "execute_result"
    }
   ],
   "source": [
    "dataset_US_.shape"
   ]
  },
  {
   "cell_type": "code",
   "execution_count": 119,
   "metadata": {},
   "outputs": [
    {
     "data": {
      "text/plain": [
       "(4722, 36)"
      ]
     },
     "execution_count": 119,
     "metadata": {},
     "output_type": "execute_result"
    }
   ],
   "source": [
    "dataset_China.shape"
   ]
  },
  {
   "cell_type": "code",
   "execution_count": 123,
   "metadata": {},
   "outputs": [
    {
     "data": {
      "text/plain": [
       "Index(['ID', 'Project Code', 'PQ #', 'PO / SO #', 'ASN/DN #', 'Country',\n",
       "       'Managed By', 'Fulfill Via', 'Vendor INCO Term', 'Shipment Mode',\n",
       "       'PQ First Sent to Client Date', 'PO Sent to Vendor Date',\n",
       "       'Scheduled Delivery Date', 'Delivered to Client Date',\n",
       "       'Delivery Recorded Date', 'Product Group', 'Sub Classification',\n",
       "       'Vendor', 'Item Description', 'Molecule/Test Type', 'Brand', 'Dosage',\n",
       "       'Dosage Form', 'Unit of Measure (Per Pack)', 'Line Item Quantity',\n",
       "       'Line Item Value', 'Pack Price', 'Unit Price', 'Manufacturing Site',\n",
       "       'First Line Designation', 'Weight (Kilograms)', 'Freight Cost (USD)',\n",
       "       'Line Item Insurance (USD)', 'On Time', 'Missed', 'Shipment Days'],\n",
       "      dtype='object')"
      ]
     },
     "execution_count": 123,
     "metadata": {},
     "output_type": "execute_result"
    }
   ],
   "source": [
    "dataset_China.columns"
   ]
  },
  {
   "cell_type": "code",
   "execution_count": 124,
   "metadata": {},
   "outputs": [
    {
     "data": {
      "text/plain": [
       "Index(['ID', 'Project Code', 'PQ #', 'PO / SO #', 'ASN/DN #', 'Country',\n",
       "       'Managed By', 'Fulfill Via', 'Vendor INCO Term', 'Shipment Mode',\n",
       "       'PQ First Sent to Client Date', 'PO Sent to Vendor Date',\n",
       "       'Scheduled Delivery Date', 'Delivered to Client Date',\n",
       "       'Delivery Recorded Date', 'Product Group', 'Sub Classification',\n",
       "       'Vendor', 'Item Description', 'Molecule/Test Type', 'Brand', 'Dosage',\n",
       "       'Dosage Form', 'Unit of Measure (Per Pack)', 'Line Item Quantity',\n",
       "       'Line Item Value', 'Pack Price', 'Unit Price', 'Manufacturing Site',\n",
       "       'First Line Designation', 'Weight (Kilograms)', 'Freight Cost (USD)',\n",
       "       'Line Item Insurance (USD)', 'On Time', 'Missed', 'Shipment Days'],\n",
       "      dtype='object')"
      ]
     },
     "execution_count": 124,
     "metadata": {},
     "output_type": "execute_result"
    }
   ],
   "source": [
    "dataset_US.columns"
   ]
  },
  {
   "cell_type": "code",
   "execution_count": 215,
   "metadata": {},
   "outputs": [
    {
     "data": {
      "text/html": [
       "<div>\n",
       "<style scoped>\n",
       "    .dataframe tbody tr th:only-of-type {\n",
       "        vertical-align: middle;\n",
       "    }\n",
       "\n",
       "    .dataframe tbody tr th {\n",
       "        vertical-align: top;\n",
       "    }\n",
       "\n",
       "    .dataframe thead th {\n",
       "        text-align: right;\n",
       "    }\n",
       "</style>\n",
       "<table border=\"1\" class=\"dataframe\">\n",
       "  <thead>\n",
       "    <tr style=\"text-align: right;\">\n",
       "      <th></th>\n",
       "      <th>Country</th>\n",
       "      <th>Shipment Mode</th>\n",
       "      <th>Unit of Measure (Per Pack)</th>\n",
       "      <th>Line Item Quantity</th>\n",
       "      <th>Pack Price</th>\n",
       "      <th>Weight (Kilograms)</th>\n",
       "      <th>Freight Cost (USD)</th>\n",
       "      <th>On Time</th>\n",
       "      <th>Missed</th>\n",
       "      <th>Shipment Days</th>\n",
       "    </tr>\n",
       "  </thead>\n",
       "  <tbody>\n",
       "    <tr>\n",
       "      <th>1</th>\n",
       "      <td>China</td>\n",
       "      <td>Air</td>\n",
       "      <td>240</td>\n",
       "      <td>1000</td>\n",
       "      <td>6.20</td>\n",
       "      <td>358</td>\n",
       "      <td>4521.5</td>\n",
       "      <td>1</td>\n",
       "      <td>0</td>\n",
       "      <td>3</td>\n",
       "    </tr>\n",
       "    <tr>\n",
       "      <th>3</th>\n",
       "      <td>China</td>\n",
       "      <td>Air</td>\n",
       "      <td>60</td>\n",
       "      <td>31920</td>\n",
       "      <td>3.99</td>\n",
       "      <td>1855</td>\n",
       "      <td>16007.06</td>\n",
       "      <td>1</td>\n",
       "      <td>0</td>\n",
       "      <td>5</td>\n",
       "    </tr>\n",
       "    <tr>\n",
       "      <th>4</th>\n",
       "      <td>China</td>\n",
       "      <td>Air</td>\n",
       "      <td>60</td>\n",
       "      <td>38000</td>\n",
       "      <td>3.20</td>\n",
       "      <td>7590</td>\n",
       "      <td>45450.08</td>\n",
       "      <td>1</td>\n",
       "      <td>0</td>\n",
       "      <td>3</td>\n",
       "    </tr>\n",
       "    <tr>\n",
       "      <th>6</th>\n",
       "      <td>China</td>\n",
       "      <td>Air</td>\n",
       "      <td>90</td>\n",
       "      <td>135</td>\n",
       "      <td>32.40</td>\n",
       "      <td>328</td>\n",
       "      <td>Freight Included in Commodity Cost</td>\n",
       "      <td>1</td>\n",
       "      <td>0</td>\n",
       "      <td>3</td>\n",
       "    </tr>\n",
       "    <tr>\n",
       "      <th>12</th>\n",
       "      <td>China</td>\n",
       "      <td>Air</td>\n",
       "      <td>100</td>\n",
       "      <td>10</td>\n",
       "      <td>85.00</td>\n",
       "      <td>Weight Captured Separately</td>\n",
       "      <td>Invoiced Separately</td>\n",
       "      <td>1</td>\n",
       "      <td>0</td>\n",
       "      <td>2</td>\n",
       "    </tr>\n",
       "  </tbody>\n",
       "</table>\n",
       "</div>"
      ],
      "text/plain": [
       "   Country Shipment Mode  Unit of Measure (Per Pack)  Line Item Quantity  \\\n",
       "1    China           Air                         240                1000   \n",
       "3    China           Air                          60               31920   \n",
       "4    China           Air                          60               38000   \n",
       "6    China           Air                          90                 135   \n",
       "12   China           Air                         100                  10   \n",
       "\n",
       "    Pack Price          Weight (Kilograms)  \\\n",
       "1         6.20                         358   \n",
       "3         3.99                        1855   \n",
       "4         3.20                        7590   \n",
       "6        32.40                         328   \n",
       "12       85.00  Weight Captured Separately   \n",
       "\n",
       "                    Freight Cost (USD)  On Time  Missed  Shipment Days  \n",
       "1                               4521.5        1       0              3  \n",
       "3                             16007.06        1       0              5  \n",
       "4                             45450.08        1       0              3  \n",
       "6   Freight Included in Commodity Cost        1       0              3  \n",
       "12                 Invoiced Separately        1       0              2  "
      ]
     },
     "execution_count": 215,
     "metadata": {},
     "output_type": "execute_result"
    }
   ],
   "source": [
    "dataset_China_sim = dataset_China[['Country','Shipment Mode','Unit of Measure (Per Pack)','Line Item Quantity','Pack Price','Weight (Kilograms)','Freight Cost (USD)','On Time', 'Missed', 'Shipment Days']]\n",
    "dataset_US_sim = dataset_US[['Country','Shipment Mode','Unit of Measure (Per Pack)','Line Item Quantity','Pack Price','Weight (Kilograms)','Freight Cost (USD)','On Time', 'Missed', 'Shipment Days']]\n",
    "dataset_China_sim.head()"
   ]
  },
  {
   "cell_type": "code",
   "execution_count": 216,
   "metadata": {},
   "outputs": [
    {
     "name": "stderr",
     "output_type": "stream",
     "text": [
      "/Users/user/anaconda3/lib/python3.7/site-packages/ipykernel_launcher.py:1: FutureWarning: convert_objects is deprecated.  To re-infer data dtypes for object columns, use Series.infer_objects()\n",
      "For all other conversions use the data-type specific converters pd.to_datetime, pd.to_timedelta and pd.to_numeric.\n",
      "  \"\"\"Entry point for launching an IPython kernel.\n",
      "/Users/user/anaconda3/lib/python3.7/site-packages/ipykernel_launcher.py:2: FutureWarning: convert_objects is deprecated.  To re-infer data dtypes for object columns, use Series.infer_objects()\n",
      "For all other conversions use the data-type specific converters pd.to_datetime, pd.to_timedelta and pd.to_numeric.\n",
      "  \n",
      "/Users/user/anaconda3/lib/python3.7/site-packages/ipykernel_launcher.py:5: FutureWarning: convert_objects is deprecated.  To re-infer data dtypes for object columns, use Series.infer_objects()\n",
      "For all other conversions use the data-type specific converters pd.to_datetime, pd.to_timedelta and pd.to_numeric.\n",
      "  \"\"\"\n",
      "/Users/user/anaconda3/lib/python3.7/site-packages/ipykernel_launcher.py:6: FutureWarning: convert_objects is deprecated.  To re-infer data dtypes for object columns, use Series.infer_objects()\n",
      "For all other conversions use the data-type specific converters pd.to_datetime, pd.to_timedelta and pd.to_numeric.\n",
      "  \n"
     ]
    }
   ],
   "source": [
    "value1 = np.mean(dataset_China_sim['Freight Cost (USD)'].convert_objects(convert_numeric=True)\n",
    "                 /dataset_China_sim['Line Item Quantity'])\n",
    "transit = dataset_China_sim['Freight Cost (USD)'].convert_objects(convert_numeric=True)\n",
    "                /dataset_China_sim['Line Item Quantity']\n",
    "transit1 = transit.fillna(value1)\n",
    "\n",
    "value2 = np.mean(dataset_China_sim['Weight (Kilograms)'].convert_objects(convert_numeric=True)\n",
    "                 /dataset_China_sim['Line Item Quantity'])\n",
    "transit = dataset_China_sim['Weight (Kilograms)'].convert_objects(convert_numeric=True)\n",
    "                /dataset_China_sim['Line Item Quantity']\n",
    "transit2 = transit.fillna(value2)"
   ]
  },
  {
   "cell_type": "code",
   "execution_count": 217,
   "metadata": {},
   "outputs": [],
   "source": [
    "data_China = dataset_China_sim.drop(['Country'],axis=1)\n",
    "data_China['Freight Cost (USD)'] = transit1\n",
    "data_China['Weight (Kilograms)'] = transit2"
   ]
  },
  {
   "cell_type": "code",
   "execution_count": 218,
   "metadata": {},
   "outputs": [],
   "source": [
    "data_China['Encode1'] = np.zeros(data_China.shape[0])\n",
    "data_China['Encode2'] = np.zeros(data_China.shape[0])"
   ]
  },
  {
   "cell_type": "code",
   "execution_count": 219,
   "metadata": {},
   "outputs": [
    {
     "name": "stderr",
     "output_type": "stream",
     "text": [
      "/Users/user/anaconda3/lib/python3.7/site-packages/ipykernel_launcher.py:2: SettingWithCopyWarning: \n",
      "A value is trying to be set on a copy of a slice from a DataFrame.\n",
      "Try using .loc[row_indexer,col_indexer] = value instead\n",
      "\n",
      "See the caveats in the documentation: http://pandas.pydata.org/pandas-docs/stable/indexing.html#indexing-view-versus-copy\n",
      "  \n"
     ]
    }
   ],
   "source": [
    "data_China1 = data_China[data_China['Shipment Mode']=='Air']\n",
    "data_China1['Encode1'] = np.ones(data_China1.shape[0])"
   ]
  },
  {
   "cell_type": "code",
   "execution_count": 220,
   "metadata": {},
   "outputs": [
    {
     "name": "stderr",
     "output_type": "stream",
     "text": [
      "/Users/user/anaconda3/lib/python3.7/site-packages/ipykernel_launcher.py:2: SettingWithCopyWarning: \n",
      "A value is trying to be set on a copy of a slice from a DataFrame.\n",
      "Try using .loc[row_indexer,col_indexer] = value instead\n",
      "\n",
      "See the caveats in the documentation: http://pandas.pydata.org/pandas-docs/stable/indexing.html#indexing-view-versus-copy\n",
      "  \n",
      "/Users/user/anaconda3/lib/python3.7/site-packages/ipykernel_launcher.py:3: SettingWithCopyWarning: \n",
      "A value is trying to be set on a copy of a slice from a DataFrame.\n",
      "Try using .loc[row_indexer,col_indexer] = value instead\n",
      "\n",
      "See the caveats in the documentation: http://pandas.pydata.org/pandas-docs/stable/indexing.html#indexing-view-versus-copy\n",
      "  This is separate from the ipykernel package so we can avoid doing imports until\n"
     ]
    }
   ],
   "source": [
    "data_China2 = data_China[data_China['Shipment Mode']=='Air Charter']\n",
    "data_China2['Encode1'] = np.ones(data_China2.shape[0])\n",
    "data_China2['Encode2'] = np.ones(data_China2.shape[0])"
   ]
  },
  {
   "cell_type": "code",
   "execution_count": 221,
   "metadata": {},
   "outputs": [],
   "source": [
    "data_China3 = data_China[data_China['Shipment Mode']=='Ocean']"
   ]
  },
  {
   "cell_type": "code",
   "execution_count": 222,
   "metadata": {},
   "outputs": [
    {
     "name": "stderr",
     "output_type": "stream",
     "text": [
      "/Users/user/anaconda3/lib/python3.7/site-packages/ipykernel_launcher.py:2: SettingWithCopyWarning: \n",
      "A value is trying to be set on a copy of a slice from a DataFrame.\n",
      "Try using .loc[row_indexer,col_indexer] = value instead\n",
      "\n",
      "See the caveats in the documentation: http://pandas.pydata.org/pandas-docs/stable/indexing.html#indexing-view-versus-copy\n",
      "  \n"
     ]
    }
   ],
   "source": [
    "data_China4 = data_China[data_China['Shipment Mode']=='Truck']\n",
    "data_China4['Encode2'] = np.ones(data_China4.shape[0])"
   ]
  },
  {
   "cell_type": "code",
   "execution_count": 223,
   "metadata": {},
   "outputs": [],
   "source": [
    "data_China = data_China1.append(data_China2)\n",
    "data_China = data_China.append(data_China3)\n",
    "data_China = data_China.append(data_China4)"
   ]
  },
  {
   "cell_type": "code",
   "execution_count": 224,
   "metadata": {},
   "outputs": [
    {
     "data": {
      "text/html": [
       "<div>\n",
       "<style scoped>\n",
       "    .dataframe tbody tr th:only-of-type {\n",
       "        vertical-align: middle;\n",
       "    }\n",
       "\n",
       "    .dataframe tbody tr th {\n",
       "        vertical-align: top;\n",
       "    }\n",
       "\n",
       "    .dataframe thead th {\n",
       "        text-align: right;\n",
       "    }\n",
       "</style>\n",
       "<table border=\"1\" class=\"dataframe\">\n",
       "  <thead>\n",
       "    <tr style=\"text-align: right;\">\n",
       "      <th></th>\n",
       "      <th>Shipment Mode</th>\n",
       "      <th>Unit of Measure (Per Pack)</th>\n",
       "      <th>Line Item Quantity</th>\n",
       "      <th>Pack Price</th>\n",
       "      <th>Weight (Kilograms)</th>\n",
       "      <th>Freight Cost (USD)</th>\n",
       "      <th>On Time</th>\n",
       "      <th>Missed</th>\n",
       "      <th>Shipment Days</th>\n",
       "      <th>Encode1</th>\n",
       "      <th>Encode2</th>\n",
       "    </tr>\n",
       "  </thead>\n",
       "  <tbody>\n",
       "    <tr>\n",
       "      <th>1</th>\n",
       "      <td>Air</td>\n",
       "      <td>240</td>\n",
       "      <td>1000</td>\n",
       "      <td>6.20</td>\n",
       "      <td>0.358000</td>\n",
       "      <td>4.521500</td>\n",
       "      <td>1</td>\n",
       "      <td>0</td>\n",
       "      <td>3</td>\n",
       "      <td>1.0</td>\n",
       "      <td>0.0</td>\n",
       "    </tr>\n",
       "    <tr>\n",
       "      <th>3</th>\n",
       "      <td>Air</td>\n",
       "      <td>60</td>\n",
       "      <td>31920</td>\n",
       "      <td>3.99</td>\n",
       "      <td>0.058114</td>\n",
       "      <td>0.501474</td>\n",
       "      <td>1</td>\n",
       "      <td>0</td>\n",
       "      <td>5</td>\n",
       "      <td>1.0</td>\n",
       "      <td>0.0</td>\n",
       "    </tr>\n",
       "    <tr>\n",
       "      <th>4</th>\n",
       "      <td>Air</td>\n",
       "      <td>60</td>\n",
       "      <td>38000</td>\n",
       "      <td>3.20</td>\n",
       "      <td>0.199737</td>\n",
       "      <td>1.196055</td>\n",
       "      <td>1</td>\n",
       "      <td>0</td>\n",
       "      <td>3</td>\n",
       "      <td>1.0</td>\n",
       "      <td>0.0</td>\n",
       "    </tr>\n",
       "    <tr>\n",
       "      <th>6</th>\n",
       "      <td>Air</td>\n",
       "      <td>90</td>\n",
       "      <td>135</td>\n",
       "      <td>32.40</td>\n",
       "      <td>2.429630</td>\n",
       "      <td>35.186846</td>\n",
       "      <td>1</td>\n",
       "      <td>0</td>\n",
       "      <td>3</td>\n",
       "      <td>1.0</td>\n",
       "      <td>0.0</td>\n",
       "    </tr>\n",
       "    <tr>\n",
       "      <th>12</th>\n",
       "      <td>Air</td>\n",
       "      <td>100</td>\n",
       "      <td>10</td>\n",
       "      <td>85.00</td>\n",
       "      <td>6.200352</td>\n",
       "      <td>35.186846</td>\n",
       "      <td>1</td>\n",
       "      <td>0</td>\n",
       "      <td>2</td>\n",
       "      <td>1.0</td>\n",
       "      <td>0.0</td>\n",
       "    </tr>\n",
       "  </tbody>\n",
       "</table>\n",
       "</div>"
      ],
      "text/plain": [
       "   Shipment Mode  Unit of Measure (Per Pack)  Line Item Quantity  Pack Price  \\\n",
       "1            Air                         240                1000        6.20   \n",
       "3            Air                          60               31920        3.99   \n",
       "4            Air                          60               38000        3.20   \n",
       "6            Air                          90                 135       32.40   \n",
       "12           Air                         100                  10       85.00   \n",
       "\n",
       "    Weight (Kilograms)  Freight Cost (USD)  On Time  Missed  Shipment Days  \\\n",
       "1             0.358000            4.521500        1       0              3   \n",
       "3             0.058114            0.501474        1       0              5   \n",
       "4             0.199737            1.196055        1       0              3   \n",
       "6             2.429630           35.186846        1       0              3   \n",
       "12            6.200352           35.186846        1       0              2   \n",
       "\n",
       "    Encode1  Encode2  \n",
       "1       1.0      0.0  \n",
       "3       1.0      0.0  \n",
       "4       1.0      0.0  \n",
       "6       1.0      0.0  \n",
       "12      1.0      0.0  "
      ]
     },
     "execution_count": 224,
     "metadata": {},
     "output_type": "execute_result"
    }
   ],
   "source": [
    "data_China.head()"
   ]
  },
  {
   "cell_type": "code",
   "execution_count": 226,
   "metadata": {},
   "outputs": [
    {
     "name": "stderr",
     "output_type": "stream",
     "text": [
      "/Users/user/anaconda3/lib/python3.7/site-packages/ipykernel_launcher.py:1: SettingWithCopyWarning: \n",
      "A value is trying to be set on a copy of a slice from a DataFrame.\n",
      "Try using .loc[row_indexer,col_indexer] = value instead\n",
      "\n",
      "See the caveats in the documentation: http://pandas.pydata.org/pandas-docs/stable/indexing.html#indexing-view-versus-copy\n",
      "  \"\"\"Entry point for launching an IPython kernel.\n"
     ]
    },
    {
     "data": {
      "text/html": [
       "<div>\n",
       "<style scoped>\n",
       "    .dataframe tbody tr th:only-of-type {\n",
       "        vertical-align: middle;\n",
       "    }\n",
       "\n",
       "    .dataframe tbody tr th {\n",
       "        vertical-align: top;\n",
       "    }\n",
       "\n",
       "    .dataframe thead th {\n",
       "        text-align: right;\n",
       "    }\n",
       "</style>\n",
       "<table border=\"1\" class=\"dataframe\">\n",
       "  <thead>\n",
       "    <tr style=\"text-align: right;\">\n",
       "      <th></th>\n",
       "      <th>Country</th>\n",
       "      <th>Shipment Mode</th>\n",
       "      <th>Unit of Measure (Per Pack)</th>\n",
       "      <th>Line Item Quantity</th>\n",
       "      <th>Pack Price</th>\n",
       "      <th>Weight (Kilograms)</th>\n",
       "      <th>Freight Cost (USD)</th>\n",
       "      <th>On Time</th>\n",
       "      <th>Missed</th>\n",
       "      <th>Shipment Days</th>\n",
       "    </tr>\n",
       "  </thead>\n",
       "  <tbody>\n",
       "    <tr>\n",
       "      <th>0</th>\n",
       "      <td>US</td>\n",
       "      <td>Air</td>\n",
       "      <td>30</td>\n",
       "      <td>19</td>\n",
       "      <td>29.00</td>\n",
       "      <td>13</td>\n",
       "      <td>780.34</td>\n",
       "      <td>1</td>\n",
       "      <td>0</td>\n",
       "      <td>4</td>\n",
       "    </tr>\n",
       "    <tr>\n",
       "      <th>2</th>\n",
       "      <td>US</td>\n",
       "      <td>Air</td>\n",
       "      <td>100</td>\n",
       "      <td>500</td>\n",
       "      <td>80.00</td>\n",
       "      <td>171</td>\n",
       "      <td>1653.78</td>\n",
       "      <td>1</td>\n",
       "      <td>0</td>\n",
       "      <td>3</td>\n",
       "    </tr>\n",
       "    <tr>\n",
       "      <th>5</th>\n",
       "      <td>US</td>\n",
       "      <td>Air</td>\n",
       "      <td>240</td>\n",
       "      <td>416</td>\n",
       "      <td>5.35</td>\n",
       "      <td>504</td>\n",
       "      <td>5920.42</td>\n",
       "      <td>1</td>\n",
       "      <td>0</td>\n",
       "      <td>3</td>\n",
       "    </tr>\n",
       "    <tr>\n",
       "      <th>7</th>\n",
       "      <td>US</td>\n",
       "      <td>Air</td>\n",
       "      <td>60</td>\n",
       "      <td>16667</td>\n",
       "      <td>3.65</td>\n",
       "      <td>1478</td>\n",
       "      <td>6212.41</td>\n",
       "      <td>1</td>\n",
       "      <td>0</td>\n",
       "      <td>2</td>\n",
       "    </tr>\n",
       "    <tr>\n",
       "      <th>8</th>\n",
       "      <td>US</td>\n",
       "      <td>Air</td>\n",
       "      <td>60</td>\n",
       "      <td>273</td>\n",
       "      <td>1.95</td>\n",
       "      <td>See ASN-93 (ID#:1281)</td>\n",
       "      <td>See ASN-93 (ID#:1281)</td>\n",
       "      <td>1</td>\n",
       "      <td>0</td>\n",
       "      <td>5</td>\n",
       "    </tr>\n",
       "  </tbody>\n",
       "</table>\n",
       "</div>"
      ],
      "text/plain": [
       "  Country Shipment Mode  Unit of Measure (Per Pack)  Line Item Quantity  \\\n",
       "0      US           Air                          30                  19   \n",
       "2      US           Air                         100                 500   \n",
       "5      US           Air                         240                 416   \n",
       "7      US           Air                          60               16667   \n",
       "8      US           Air                          60                 273   \n",
       "\n",
       "   Pack Price     Weight (Kilograms)     Freight Cost (USD)  On Time  Missed  \\\n",
       "0       29.00                     13                 780.34        1       0   \n",
       "2       80.00                    171                1653.78        1       0   \n",
       "5        5.35                    504                5920.42        1       0   \n",
       "7        3.65                   1478                6212.41        1       0   \n",
       "8        1.95  See ASN-93 (ID#:1281)  See ASN-93 (ID#:1281)        1       0   \n",
       "\n",
       "   Shipment Days  \n",
       "0              4  \n",
       "2              3  \n",
       "5              3  \n",
       "7              2  \n",
       "8              5  "
      ]
     },
     "execution_count": 226,
     "metadata": {},
     "output_type": "execute_result"
    }
   ],
   "source": [
    "dataset_US_sim['On Time'] = dataset_US_sim['On Time'].astype('int')\n",
    "dataset_US_sim.head()"
   ]
  },
  {
   "cell_type": "code",
   "execution_count": 227,
   "metadata": {},
   "outputs": [
    {
     "name": "stderr",
     "output_type": "stream",
     "text": [
      "/Users/user/anaconda3/lib/python3.7/site-packages/ipykernel_launcher.py:1: FutureWarning: convert_objects is deprecated.  To re-infer data dtypes for object columns, use Series.infer_objects()\n",
      "For all other conversions use the data-type specific converters pd.to_datetime, pd.to_timedelta and pd.to_numeric.\n",
      "  \"\"\"Entry point for launching an IPython kernel.\n",
      "/Users/user/anaconda3/lib/python3.7/site-packages/ipykernel_launcher.py:2: FutureWarning: convert_objects is deprecated.  To re-infer data dtypes for object columns, use Series.infer_objects()\n",
      "For all other conversions use the data-type specific converters pd.to_datetime, pd.to_timedelta and pd.to_numeric.\n",
      "  \n",
      "/Users/user/anaconda3/lib/python3.7/site-packages/ipykernel_launcher.py:5: FutureWarning: convert_objects is deprecated.  To re-infer data dtypes for object columns, use Series.infer_objects()\n",
      "For all other conversions use the data-type specific converters pd.to_datetime, pd.to_timedelta and pd.to_numeric.\n",
      "  \"\"\"\n",
      "/Users/user/anaconda3/lib/python3.7/site-packages/ipykernel_launcher.py:6: FutureWarning: convert_objects is deprecated.  To re-infer data dtypes for object columns, use Series.infer_objects()\n",
      "For all other conversions use the data-type specific converters pd.to_datetime, pd.to_timedelta and pd.to_numeric.\n",
      "  \n"
     ]
    }
   ],
   "source": [
    "value1 = np.mean(dataset_US_sim['Freight Cost (USD)'].convert_objects(convert_numeric=True)/dataset_US_sim['Line Item Quantity'])\n",
    "transit = dataset_US_sim['Freight Cost (USD)'].convert_objects(convert_numeric=True)/dataset_US_sim['Line Item Quantity']\n",
    "transit1 = transit.fillna(value1)\n",
    "\n",
    "value2 = np.mean(dataset_US_sim['Weight (Kilograms)'].convert_objects(convert_numeric=True)/dataset_US_sim['Line Item Quantity'])\n",
    "transit = dataset_US_sim['Weight (Kilograms)'].convert_objects(convert_numeric=True)/dataset_US_sim['Line Item Quantity']\n",
    "transit2 = transit.fillna(value2)"
   ]
  },
  {
   "cell_type": "code",
   "execution_count": 228,
   "metadata": {},
   "outputs": [],
   "source": [
    "data_US = dataset_US_sim.drop(['Country'],axis=1)\n",
    "data_US['Freight Cost (USD)'] = transit1\n",
    "data_US['Weight (Kilograms)'] = transit2"
   ]
  },
  {
   "cell_type": "code",
   "execution_count": 229,
   "metadata": {},
   "outputs": [],
   "source": [
    "data_US['Encode1'] = np.zeros(data_US.shape[0])\n",
    "data_US['Encode2'] = np.zeros(data_US.shape[0])"
   ]
  },
  {
   "cell_type": "code",
   "execution_count": 230,
   "metadata": {},
   "outputs": [
    {
     "name": "stderr",
     "output_type": "stream",
     "text": [
      "/Users/user/anaconda3/lib/python3.7/site-packages/ipykernel_launcher.py:2: SettingWithCopyWarning: \n",
      "A value is trying to be set on a copy of a slice from a DataFrame.\n",
      "Try using .loc[row_indexer,col_indexer] = value instead\n",
      "\n",
      "See the caveats in the documentation: http://pandas.pydata.org/pandas-docs/stable/indexing.html#indexing-view-versus-copy\n",
      "  \n",
      "/Users/user/anaconda3/lib/python3.7/site-packages/ipykernel_launcher.py:5: SettingWithCopyWarning: \n",
      "A value is trying to be set on a copy of a slice from a DataFrame.\n",
      "Try using .loc[row_indexer,col_indexer] = value instead\n",
      "\n",
      "See the caveats in the documentation: http://pandas.pydata.org/pandas-docs/stable/indexing.html#indexing-view-versus-copy\n",
      "  \"\"\"\n",
      "/Users/user/anaconda3/lib/python3.7/site-packages/ipykernel_launcher.py:6: SettingWithCopyWarning: \n",
      "A value is trying to be set on a copy of a slice from a DataFrame.\n",
      "Try using .loc[row_indexer,col_indexer] = value instead\n",
      "\n",
      "See the caveats in the documentation: http://pandas.pydata.org/pandas-docs/stable/indexing.html#indexing-view-versus-copy\n",
      "  \n",
      "/Users/user/anaconda3/lib/python3.7/site-packages/ipykernel_launcher.py:11: SettingWithCopyWarning: \n",
      "A value is trying to be set on a copy of a slice from a DataFrame.\n",
      "Try using .loc[row_indexer,col_indexer] = value instead\n",
      "\n",
      "See the caveats in the documentation: http://pandas.pydata.org/pandas-docs/stable/indexing.html#indexing-view-versus-copy\n",
      "  # This is added back by InteractiveShellApp.init_path()\n"
     ]
    }
   ],
   "source": [
    "data_US1 = data_US[data_US['Shipment Mode']=='Air']\n",
    "data_US1['Encode1'] = np.ones(data_US1.shape[0])\n",
    "\n",
    "data_US2 = data_US[data_US['Shipment Mode']=='Air Charter']\n",
    "data_US2['Encode1'] = np.ones(data_US2.shape[0])\n",
    "data_US2['Encode2'] = np.ones(data_US2.shape[0])\n",
    "\n",
    "data_US3 = data_US[data_US['Shipment Mode']=='Ocean']\n",
    "\n",
    "data_US4 = data_US[data_US['Shipment Mode']=='Truck']\n",
    "data_US4['Encode2'] = np.ones(data_US4.shape[0])"
   ]
  },
  {
   "cell_type": "code",
   "execution_count": 231,
   "metadata": {},
   "outputs": [],
   "source": [
    "data_US = data_US1.append(data_US2)\n",
    "data_US = data_US.append(data_US3)\n",
    "data_US = data_US.append(data_US4)"
   ]
  },
  {
   "cell_type": "code",
   "execution_count": 233,
   "metadata": {},
   "outputs": [
    {
     "data": {
      "text/html": [
       "<div>\n",
       "<style scoped>\n",
       "    .dataframe tbody tr th:only-of-type {\n",
       "        vertical-align: middle;\n",
       "    }\n",
       "\n",
       "    .dataframe tbody tr th {\n",
       "        vertical-align: top;\n",
       "    }\n",
       "\n",
       "    .dataframe thead th {\n",
       "        text-align: right;\n",
       "    }\n",
       "</style>\n",
       "<table border=\"1\" class=\"dataframe\">\n",
       "  <thead>\n",
       "    <tr style=\"text-align: right;\">\n",
       "      <th></th>\n",
       "      <th>Shipment Mode</th>\n",
       "      <th>Unit of Measure (Per Pack)</th>\n",
       "      <th>Line Item Quantity</th>\n",
       "      <th>Pack Price</th>\n",
       "      <th>Weight (Kilograms)</th>\n",
       "      <th>Freight Cost (USD)</th>\n",
       "      <th>On Time</th>\n",
       "      <th>Missed</th>\n",
       "      <th>Shipment Days</th>\n",
       "      <th>Encode1</th>\n",
       "      <th>Encode2</th>\n",
       "    </tr>\n",
       "  </thead>\n",
       "  <tbody>\n",
       "    <tr>\n",
       "      <th>0</th>\n",
       "      <td>Air</td>\n",
       "      <td>30</td>\n",
       "      <td>19</td>\n",
       "      <td>29.00</td>\n",
       "      <td>0.684211</td>\n",
       "      <td>41.070526</td>\n",
       "      <td>1</td>\n",
       "      <td>0</td>\n",
       "      <td>4</td>\n",
       "      <td>1.0</td>\n",
       "      <td>0.0</td>\n",
       "    </tr>\n",
       "    <tr>\n",
       "      <th>2</th>\n",
       "      <td>Air</td>\n",
       "      <td>100</td>\n",
       "      <td>500</td>\n",
       "      <td>80.00</td>\n",
       "      <td>0.342000</td>\n",
       "      <td>3.307560</td>\n",
       "      <td>1</td>\n",
       "      <td>0</td>\n",
       "      <td>3</td>\n",
       "      <td>1.0</td>\n",
       "      <td>0.0</td>\n",
       "    </tr>\n",
       "    <tr>\n",
       "      <th>5</th>\n",
       "      <td>Air</td>\n",
       "      <td>240</td>\n",
       "      <td>416</td>\n",
       "      <td>5.35</td>\n",
       "      <td>1.211538</td>\n",
       "      <td>14.231779</td>\n",
       "      <td>1</td>\n",
       "      <td>0</td>\n",
       "      <td>3</td>\n",
       "      <td>1.0</td>\n",
       "      <td>0.0</td>\n",
       "    </tr>\n",
       "    <tr>\n",
       "      <th>7</th>\n",
       "      <td>Air</td>\n",
       "      <td>60</td>\n",
       "      <td>16667</td>\n",
       "      <td>3.65</td>\n",
       "      <td>0.088678</td>\n",
       "      <td>0.372737</td>\n",
       "      <td>1</td>\n",
       "      <td>0</td>\n",
       "      <td>2</td>\n",
       "      <td>1.0</td>\n",
       "      <td>0.0</td>\n",
       "    </tr>\n",
       "    <tr>\n",
       "      <th>8</th>\n",
       "      <td>Air</td>\n",
       "      <td>60</td>\n",
       "      <td>273</td>\n",
       "      <td>1.95</td>\n",
       "      <td>3.572041</td>\n",
       "      <td>22.507133</td>\n",
       "      <td>1</td>\n",
       "      <td>0</td>\n",
       "      <td>5</td>\n",
       "      <td>1.0</td>\n",
       "      <td>0.0</td>\n",
       "    </tr>\n",
       "  </tbody>\n",
       "</table>\n",
       "</div>"
      ],
      "text/plain": [
       "  Shipment Mode  Unit of Measure (Per Pack)  Line Item Quantity  Pack Price  \\\n",
       "0           Air                          30                  19       29.00   \n",
       "2           Air                         100                 500       80.00   \n",
       "5           Air                         240                 416        5.35   \n",
       "7           Air                          60               16667        3.65   \n",
       "8           Air                          60                 273        1.95   \n",
       "\n",
       "   Weight (Kilograms)  Freight Cost (USD)  On Time  Missed  Shipment Days  \\\n",
       "0            0.684211           41.070526        1       0              4   \n",
       "2            0.342000            3.307560        1       0              3   \n",
       "5            1.211538           14.231779        1       0              3   \n",
       "7            0.088678            0.372737        1       0              2   \n",
       "8            3.572041           22.507133        1       0              5   \n",
       "\n",
       "   Encode1  Encode2  \n",
       "0      1.0      0.0  \n",
       "2      1.0      0.0  \n",
       "5      1.0      0.0  \n",
       "7      1.0      0.0  \n",
       "8      1.0      0.0  "
      ]
     },
     "execution_count": 233,
     "metadata": {},
     "output_type": "execute_result"
    }
   ],
   "source": [
    "data_US.head()"
   ]
  },
  {
   "cell_type": "code",
   "execution_count": 240,
   "metadata": {},
   "outputs": [
    {
     "data": {
      "text/html": [
       "<div>\n",
       "<style scoped>\n",
       "    .dataframe tbody tr th:only-of-type {\n",
       "        vertical-align: middle;\n",
       "    }\n",
       "\n",
       "    .dataframe tbody tr th {\n",
       "        vertical-align: top;\n",
       "    }\n",
       "\n",
       "    .dataframe thead th {\n",
       "        text-align: right;\n",
       "    }\n",
       "</style>\n",
       "<table border=\"1\" class=\"dataframe\">\n",
       "  <thead>\n",
       "    <tr style=\"text-align: right;\">\n",
       "      <th></th>\n",
       "      <th>Pack Price</th>\n",
       "      <th>Weight (Kilograms)</th>\n",
       "      <th>Freight Cost (USD)</th>\n",
       "      <th>On Time</th>\n",
       "      <th>Missed</th>\n",
       "      <th>Shipment Days</th>\n",
       "      <th>Encode1</th>\n",
       "      <th>Encode2</th>\n",
       "    </tr>\n",
       "    <tr>\n",
       "      <th>Shipment Mode</th>\n",
       "      <th></th>\n",
       "      <th></th>\n",
       "      <th></th>\n",
       "      <th></th>\n",
       "      <th></th>\n",
       "      <th></th>\n",
       "      <th></th>\n",
       "      <th></th>\n",
       "    </tr>\n",
       "  </thead>\n",
       "  <tbody>\n",
       "    <tr>\n",
       "      <th>Air</th>\n",
       "      <td>28.427124</td>\n",
       "      <td>4.174945</td>\n",
       "      <td>37.736487</td>\n",
       "      <td>0.800910</td>\n",
       "      <td>0.001400</td>\n",
       "      <td>3.098670</td>\n",
       "      <td>1.0</td>\n",
       "      <td>0.0</td>\n",
       "    </tr>\n",
       "    <tr>\n",
       "      <th>Air Charter</th>\n",
       "      <td>8.335083</td>\n",
       "      <td>38.698004</td>\n",
       "      <td>89.592059</td>\n",
       "      <td>0.316832</td>\n",
       "      <td>0.003300</td>\n",
       "      <td>2.122112</td>\n",
       "      <td>1.0</td>\n",
       "      <td>1.0</td>\n",
       "    </tr>\n",
       "    <tr>\n",
       "      <th>Ocean</th>\n",
       "      <td>7.120561</td>\n",
       "      <td>1.631347</td>\n",
       "      <td>9.254075</td>\n",
       "      <td>1.000000</td>\n",
       "      <td>0.010204</td>\n",
       "      <td>5.280612</td>\n",
       "      <td>0.0</td>\n",
       "      <td>0.0</td>\n",
       "    </tr>\n",
       "    <tr>\n",
       "      <th>Truck</th>\n",
       "      <td>12.977355</td>\n",
       "      <td>3.883393</td>\n",
       "      <td>21.495396</td>\n",
       "      <td>0.494505</td>\n",
       "      <td>0.000000</td>\n",
       "      <td>3.301099</td>\n",
       "      <td>0.0</td>\n",
       "      <td>1.0</td>\n",
       "    </tr>\n",
       "  </tbody>\n",
       "</table>\n",
       "</div>"
      ],
      "text/plain": [
       "               Pack Price  Weight (Kilograms)  Freight Cost (USD)   On Time  \\\n",
       "Shipment Mode                                                                 \n",
       "Air             28.427124            4.174945           37.736487  0.800910   \n",
       "Air Charter      8.335083           38.698004           89.592059  0.316832   \n",
       "Ocean            7.120561            1.631347            9.254075  1.000000   \n",
       "Truck           12.977355            3.883393           21.495396  0.494505   \n",
       "\n",
       "                 Missed  Shipment Days  Encode1  Encode2  \n",
       "Shipment Mode                                             \n",
       "Air            0.001400       3.098670      1.0      0.0  \n",
       "Air Charter    0.003300       2.122112      1.0      1.0  \n",
       "Ocean          0.010204       5.280612      0.0      0.0  \n",
       "Truck          0.000000       3.301099      0.0      1.0  "
      ]
     },
     "execution_count": 240,
     "metadata": {},
     "output_type": "execute_result"
    }
   ],
   "source": [
    "data_China_group = data_China.drop(['Unit of Measure (Per Pack)','Line Item Quantity'],axis=1)\n",
    "data_China_group = data_China_group.groupby(['Shipment Mode'])\n",
    "data_China_group.mean()"
   ]
  },
  {
   "cell_type": "code",
   "execution_count": 355,
   "metadata": {},
   "outputs": [
    {
     "name": "stdout",
     "output_type": "stream",
     "text": [
      "2.74880945502727e-37\n"
     ]
    }
   ],
   "source": [
    "from scipy import stats\n",
    "\n",
    "t_test,p_value_t = stats.ttest_ind(data_China['Shipment Days'],data_US['Shipment Days'],equal_var=False)\n",
    "print(p_value_t)"
   ]
  },
  {
   "cell_type": "code",
   "execution_count": 361,
   "metadata": {},
   "outputs": [],
   "source": [
    "def ztest_proportion_two_samples(x1, n1, x2, n2, one_sided=False):\n",
    "    p1 = x1/n1\n",
    "    p2 = x2/n2    \n",
    "\n",
    "    p = (x1+x2)/(n1+n2)\n",
    "    se = p*(1-p)*(1/n1+1/n2)\n",
    "    se = np.sqrt(se)\n",
    "    \n",
    "    z = (p1-p2)/se\n",
    "    p = 1-stats.norm.cdf(abs(z))\n",
    "    p *= 2-one_sided # if not one_sided: p *= 2\n",
    "    return z, p"
   ]
  },
  {
   "cell_type": "code",
   "execution_count": 362,
   "metadata": {},
   "outputs": [
    {
     "name": "stdout",
     "output_type": "stream",
     "text": [
      "nan\n"
     ]
    },
    {
     "name": "stderr",
     "output_type": "stream",
     "text": [
      "/Users/user/anaconda3/lib/python3.7/site-packages/ipykernel_launcher.py:7: RuntimeWarning: invalid value encountered in sqrt\n",
      "  import sys\n"
     ]
    }
   ],
   "source": [
    "n1_ontime = data_China.shape[0]\n",
    "n2_ontime = np.sum(data_China['On Time'])\n",
    "n3_ontime = data_US.shape[0]\n",
    "n4_ontime = np.sum(data_US['On Time'])\n",
    "\n",
    "z_test_ontime,p_value_ontime = ztest_proportion_two_samples(n1_ontime,n2_ontime,n3_ontime,n4_ontime,one_sided=True)\n",
    "print(p_value_ontime)"
   ]
  },
  {
   "cell_type": "code",
   "execution_count": 363,
   "metadata": {},
   "outputs": [
    {
     "name": "stdout",
     "output_type": "stream",
     "text": [
      "nan\n"
     ]
    },
    {
     "name": "stderr",
     "output_type": "stream",
     "text": [
      "/Users/user/anaconda3/lib/python3.7/site-packages/ipykernel_launcher.py:7: RuntimeWarning: invalid value encountered in sqrt\n",
      "  import sys\n"
     ]
    }
   ],
   "source": [
    "n1_missed = data_China.shape[0]\n",
    "n2_missed = np.sum(data_China['Missed'])\n",
    "n3_missed = data_US.shape[0]\n",
    "n4_missed = np.sum(data_US['Missed'])\n",
    "\n",
    "z_test_missed,p_value_missed = ztest_proportion_two_samples(n1_missed,n2_missed,n3_missed,n4_missed,one_sided=True)\n",
    "print(p_value_missed)"
   ]
  },
  {
   "cell_type": "code",
   "execution_count": 366,
   "metadata": {},
   "outputs": [
    {
     "data": {
      "text/html": [
       "<div>\n",
       "<style scoped>\n",
       "    .dataframe tbody tr th:only-of-type {\n",
       "        vertical-align: middle;\n",
       "    }\n",
       "\n",
       "    .dataframe tbody tr th {\n",
       "        vertical-align: top;\n",
       "    }\n",
       "\n",
       "    .dataframe thead th {\n",
       "        text-align: right;\n",
       "    }\n",
       "</style>\n",
       "<table border=\"1\" class=\"dataframe\">\n",
       "  <thead>\n",
       "    <tr style=\"text-align: right;\">\n",
       "      <th></th>\n",
       "      <th>Pack Price</th>\n",
       "      <th>Weight (Kilograms)</th>\n",
       "      <th>Freight Cost (USD)</th>\n",
       "      <th>On Time</th>\n",
       "      <th>Missed</th>\n",
       "      <th>Shipment Days</th>\n",
       "      <th>Encode1</th>\n",
       "      <th>Encode2</th>\n",
       "    </tr>\n",
       "    <tr>\n",
       "      <th>Shipment Mode</th>\n",
       "      <th></th>\n",
       "      <th></th>\n",
       "      <th></th>\n",
       "      <th></th>\n",
       "      <th></th>\n",
       "      <th></th>\n",
       "      <th></th>\n",
       "      <th></th>\n",
       "    </tr>\n",
       "  </thead>\n",
       "  <tbody>\n",
       "    <tr>\n",
       "      <th>Air</th>\n",
       "      <td>27.595081</td>\n",
       "      <td>3.577714</td>\n",
       "      <td>25.896660</td>\n",
       "      <td>0.709370</td>\n",
       "      <td>0.002765</td>\n",
       "      <td>3.349002</td>\n",
       "      <td>1.0</td>\n",
       "      <td>0.0</td>\n",
       "    </tr>\n",
       "    <tr>\n",
       "      <th>Air Charter</th>\n",
       "      <td>8.903372</td>\n",
       "      <td>8.939229</td>\n",
       "      <td>30.276819</td>\n",
       "      <td>0.178674</td>\n",
       "      <td>0.000000</td>\n",
       "      <td>2.322767</td>\n",
       "      <td>1.0</td>\n",
       "      <td>1.0</td>\n",
       "    </tr>\n",
       "    <tr>\n",
       "      <th>Ocean</th>\n",
       "      <td>5.951143</td>\n",
       "      <td>1.042227</td>\n",
       "      <td>7.789781</td>\n",
       "      <td>0.794286</td>\n",
       "      <td>0.000000</td>\n",
       "      <td>5.371429</td>\n",
       "      <td>0.0</td>\n",
       "      <td>0.0</td>\n",
       "    </tr>\n",
       "    <tr>\n",
       "      <th>Truck</th>\n",
       "      <td>13.465809</td>\n",
       "      <td>2.590360</td>\n",
       "      <td>14.893855</td>\n",
       "      <td>0.446416</td>\n",
       "      <td>0.000000</td>\n",
       "      <td>3.800683</td>\n",
       "      <td>0.0</td>\n",
       "      <td>1.0</td>\n",
       "    </tr>\n",
       "  </tbody>\n",
       "</table>\n",
       "</div>"
      ],
      "text/plain": [
       "               Pack Price  Weight (Kilograms)  Freight Cost (USD)   On Time  \\\n",
       "Shipment Mode                                                                 \n",
       "Air             27.595081            3.577714           25.896660  0.709370   \n",
       "Air Charter      8.903372            8.939229           30.276819  0.178674   \n",
       "Ocean            5.951143            1.042227            7.789781  0.794286   \n",
       "Truck           13.465809            2.590360           14.893855  0.446416   \n",
       "\n",
       "                 Missed  Shipment Days  Encode1  Encode2  \n",
       "Shipment Mode                                             \n",
       "Air            0.002765       3.349002      1.0      0.0  \n",
       "Air Charter    0.000000       2.322767      1.0      1.0  \n",
       "Ocean          0.000000       5.371429      0.0      0.0  \n",
       "Truck          0.000000       3.800683      0.0      1.0  "
      ]
     },
     "execution_count": 366,
     "metadata": {},
     "output_type": "execute_result"
    }
   ],
   "source": [
    "data_US_group = data_US.drop(['Unit of Measure (Per Pack)','Line Item Quantity'],axis=1)\n",
    "data_US_group = data_US_group.groupby(['Shipment Mode'])\n",
    "data_US_group.mean()"
   ]
  },
  {
   "cell_type": "code",
   "execution_count": 241,
   "metadata": {},
   "outputs": [],
   "source": [
    "China_features = data_China.drop(['Shipment Mode','On Time','Missed','Shipment Days'],axis=1)\n",
    "China_ontime = data_China['On Time']\n",
    "China_missed = data_China['Missed']\n",
    "China_days = data_China['Shipment Days']"
   ]
  },
  {
   "cell_type": "code",
   "execution_count": 242,
   "metadata": {},
   "outputs": [],
   "source": [
    "US_features = data_US.drop(['Shipment Mode','On Time','Missed','Shipment Days'],axis=1)\n",
    "US_ontime = data_US['On Time']\n",
    "US_missed = data_US['Missed']\n",
    "US_days = data_US['Shipment Days']"
   ]
  },
  {
   "cell_type": "code",
   "execution_count": 243,
   "metadata": {},
   "outputs": [],
   "source": [
    "from sklearn.model_selection import train_test_split\n",
    "from sklearn.linear_model import LogisticRegression\n",
    "from sklearn.metrics import roc_auc_score, confusion_matrix"
   ]
  },
  {
   "cell_type": "code",
   "execution_count": 244,
   "metadata": {},
   "outputs": [],
   "source": [
    "CXtr, CXts, Cytr, Cyts = train_test_split(China_features, China_ontime, test_size=0.33, random_state=0)"
   ]
  },
  {
   "cell_type": "code",
   "execution_count": 258,
   "metadata": {},
   "outputs": [
    {
     "name": "stdout",
     "output_type": "stream",
     "text": [
      "The accuracy measurements of the classification tree are: \n",
      "Accuracy = 0.7691\n",
      "Sensitivity = 0.8831\n",
      "Specificity = 0.5135\n",
      "Precision = 0.8027\n",
      "F1 Score = 0.8410\n"
     ]
    }
   ],
   "source": [
    "Cmodel_ontime_log = LogisticRegression(random_state=0, C=10E6)\n",
    "Cmodel_ontime_log.fit(CXtr, Cytr)\n",
    "\n",
    "Cyhat = Cmodel_ontime_log.predict(CXts)\n",
    "con = confusion_matrix(Cyts, Cyhat, labels=(0,1))\n",
    "acc = (con[0,0]+con[1,1])/np.sum(con)\n",
    "sen = con[1,1]/(con[1,0]+con[1,1])\n",
    "spe = con[0,0]/(con[0,0]+con[0,1])\n",
    "pre = con[1,1]/(con[1,1]+con[0,1])\n",
    "f1 = 2*con[1,1]/(2*con[1,1]+con[1,0]+con[0,1])\n",
    "print(\"The accuracy measurements of the classification tree are: \")\n",
    "print(\"Accuracy = %.4f\" %acc)\n",
    "print(\"Sensitivity = %.4f\" %sen)\n",
    "print(\"Specificity = %.4f\" %spe)\n",
    "print(\"Precision = %.4f\" %pre)\n",
    "print(\"F1 Score = %.4f\" %f1)"
   ]
  },
  {
   "cell_type": "code",
   "execution_count": 252,
   "metadata": {},
   "outputs": [],
   "source": [
    "from sklearn import tree\n",
    "from sklearn.model_selection import GridSearchCV"
   ]
  },
  {
   "cell_type": "code",
   "execution_count": 259,
   "metadata": {},
   "outputs": [
    {
     "name": "stdout",
     "output_type": "stream",
     "text": [
      "The accuracy is: 0.8005\n"
     ]
    }
   ],
   "source": [
    "from sklearn import tree\n",
    "from sklearn.model_selection import GridSearchCV\n",
    "\n",
    "parameters = {'criterion':('gini', 'entropy'), \n",
    "              'min_samples_split':[2,3,4,5], \n",
    "              'max_depth':[9,10,11,12],\n",
    "              'class_weight':('balanced', None),\n",
    "              'presort':(False,True),\n",
    "             }\n",
    "\n",
    "#Model Construction\n",
    "tr = tree.DecisionTreeClassifier()\n",
    "gsearch = GridSearchCV(tr, parameters)\n",
    "gsearch.fit(CXtr, Cytr)\n",
    "Cmodel_ontime_tree = gsearch.best_estimator_\n",
    "\n",
    "score = Cmodel_ontime_tree.score(CXts, Cyts)\n",
    "print(\"The accuracy is: %.4f\" %score)"
   ]
  },
  {
   "cell_type": "code",
   "execution_count": 369,
   "metadata": {},
   "outputs": [
    {
     "name": "stdout",
     "output_type": "stream",
     "text": [
      "The accuracy measurements of the classification tree are: \n",
      "Accuracy = 0.8005\n",
      "Sensitivity = 0.8924\n",
      "Specificity = 0.5946\n",
      "Precision = 0.8315\n",
      "F1 Score = 0.8609\n"
     ]
    }
   ],
   "source": [
    "Cyhat = Cmodel_ontime_tree.predict(CXts)\n",
    "con = confusion_matrix(Cyts, Cyhat, labels=(0,1))\n",
    "acc = (con[0,0]+con[1,1])/np.sum(con)\n",
    "sen = con[1,1]/(con[1,0]+con[1,1])\n",
    "spe = con[0,0]/(con[0,0]+con[0,1])\n",
    "pre = con[1,1]/(con[1,1]+con[0,1])\n",
    "f1 = 2*con[1,1]/(2*con[1,1]+con[1,0]+con[0,1])\n",
    "print(\"The accuracy measurements of the classification tree are: \")\n",
    "print(\"Accuracy = %.4f\" %acc)\n",
    "print(\"Sensitivity = %.4f\" %sen)\n",
    "print(\"Specificity = %.4f\" %spe)\n",
    "print(\"Precision = %.4f\" %pre)\n",
    "print(\"F1 Score = %.4f\" %f1)"
   ]
  },
  {
   "cell_type": "code",
   "execution_count": 255,
   "metadata": {},
   "outputs": [],
   "source": [
    "UXtr, UXts, Uytr, Uyts = train_test_split(US_features, US_ontime, test_size=0.33, random_state=0)"
   ]
  },
  {
   "cell_type": "code",
   "execution_count": 260,
   "metadata": {},
   "outputs": [
    {
     "name": "stdout",
     "output_type": "stream",
     "text": [
      "The accuracy measurements of the classification tree are: \n",
      "Accuracy = 0.7150\n",
      "Sensitivity = 0.8680\n",
      "Specificity = 0.4979\n",
      "Precision = 0.7105\n",
      "F1 Score = 0.7814\n"
     ]
    }
   ],
   "source": [
    "Umodel_ontime_log = LogisticRegression(random_state=0, C=10E6)\n",
    "Umodel_ontime_log.fit(UXtr, Uytr)\n",
    "\n",
    "Uyhat = Umodel_ontime_log.predict(UXts)\n",
    "con = confusion_matrix(Uyts, Uyhat, labels=(0,1))\n",
    "acc = (con[0,0]+con[1,1])/np.sum(con)\n",
    "sen = con[1,1]/(con[1,0]+con[1,1])\n",
    "spe = con[0,0]/(con[0,0]+con[0,1])\n",
    "pre = con[1,1]/(con[1,1]+con[0,1])\n",
    "f1 = 2*con[1,1]/(2*con[1,1]+con[1,0]+con[0,1])\n",
    "print(\"The accuracy measurements of the classification tree are: \")\n",
    "print(\"Accuracy = %.4f\" %acc)\n",
    "print(\"Sensitivity = %.4f\" %sen)\n",
    "print(\"Specificity = %.4f\" %spe)\n",
    "print(\"Precision = %.4f\" %pre)\n",
    "print(\"F1 Score = %.4f\" %f1)"
   ]
  },
  {
   "cell_type": "code",
   "execution_count": 261,
   "metadata": {},
   "outputs": [
    {
     "name": "stdout",
     "output_type": "stream",
     "text": [
      "The accuracy is: 0.7387\n"
     ]
    }
   ],
   "source": [
    "parameters = {'criterion':('gini', 'entropy'), \n",
    "              'min_samples_split':[2,3,4,5], \n",
    "              'max_depth':[9,10,11,12],\n",
    "              'class_weight':('balanced', None),\n",
    "              'presort':(False,True),\n",
    "             }\n",
    "\n",
    "#Model Construction\n",
    "tr = tree.DecisionTreeClassifier()\n",
    "gsearch = GridSearchCV(tr, parameters)\n",
    "gsearch.fit(UXtr, Uytr)\n",
    "Umodel_ontime_tree = gsearch.best_estimator_\n",
    "\n",
    "score = Umodel_ontime_tree.score(UXts, Uyts)\n",
    "print(\"The accuracy is: %.4f\" %score)"
   ]
  },
  {
   "cell_type": "code",
   "execution_count": 368,
   "metadata": {},
   "outputs": [
    {
     "name": "stdout",
     "output_type": "stream",
     "text": [
      "The accuracy measurements of the classification tree are: \n",
      "Accuracy = 0.7387\n",
      "Sensitivity = 0.7813\n",
      "Specificity = 0.6783\n",
      "Precision = 0.7752\n",
      "F1 Score = 0.7782\n"
     ]
    }
   ],
   "source": [
    "Uyhat = Umodel_ontime_tree.predict(UXts)\n",
    "con = confusion_matrix(Uyts, Uyhat, labels=(0,1))\n",
    "acc = (con[0,0]+con[1,1])/np.sum(con)\n",
    "sen = con[1,1]/(con[1,0]+con[1,1])\n",
    "spe = con[0,0]/(con[0,0]+con[0,1])\n",
    "pre = con[1,1]/(con[1,1]+con[0,1])\n",
    "f1 = 2*con[1,1]/(2*con[1,1]+con[1,0]+con[0,1])\n",
    "print(\"The accuracy measurements of the classification tree are: \")\n",
    "print(\"Accuracy = %.4f\" %acc)\n",
    "print(\"Sensitivity = %.4f\" %sen)\n",
    "print(\"Specificity = %.4f\" %spe)\n",
    "print(\"Precision = %.4f\" %pre)\n",
    "print(\"F1 Score = %.4f\" %f1)"
   ]
  },
  {
   "cell_type": "code",
   "execution_count": 262,
   "metadata": {},
   "outputs": [],
   "source": [
    "CXtr_m, CXts_m, Cytr_m, Cyts_m = train_test_split(China_features, China_missed, test_size=0.33, random_state=0)"
   ]
  },
  {
   "cell_type": "code",
   "execution_count": 263,
   "metadata": {},
   "outputs": [
    {
     "name": "stdout",
     "output_type": "stream",
     "text": [
      "The accuracy measurements of the classification tree are: \n",
      "Accuracy = 0.9981\n",
      "Sensitivity = 0.0000\n",
      "Specificity = 0.9994\n",
      "Precision = 0.0000\n",
      "F1 Score = 0.0000\n"
     ]
    }
   ],
   "source": [
    "Cmodel_missed_log = LogisticRegression(random_state=0, C=10E6)\n",
    "Cmodel_missed_log.fit(CXtr_m, Cytr_m)\n",
    "\n",
    "Cyhat_m = Cmodel_missed_log.predict(CXts_m)\n",
    "con = confusion_matrix(Cyts_m, Cyhat_m, labels=(0,1))\n",
    "acc = (con[0,0]+con[1,1])/np.sum(con)\n",
    "sen = con[1,1]/(con[1,0]+con[1,1])\n",
    "spe = con[0,0]/(con[0,0]+con[0,1])\n",
    "pre = con[1,1]/(con[1,1]+con[0,1])\n",
    "f1 = 2*con[1,1]/(2*con[1,1]+con[1,0]+con[0,1])\n",
    "print(\"The accuracy measurements of the classification tree are: \")\n",
    "print(\"Accuracy = %.4f\" %acc)\n",
    "print(\"Sensitivity = %.4f\" %sen)\n",
    "print(\"Specificity = %.4f\" %spe)\n",
    "print(\"Precision = %.4f\" %pre)\n",
    "print(\"F1 Score = %.4f\" %f1)"
   ]
  },
  {
   "cell_type": "code",
   "execution_count": 265,
   "metadata": {},
   "outputs": [
    {
     "name": "stdout",
     "output_type": "stream",
     "text": [
      "The accuracy is: 0.9955\n"
     ]
    }
   ],
   "source": [
    "parameters = {'criterion':('gini', 'entropy'), \n",
    "              'min_samples_split':[2,3,4,5], \n",
    "              'max_depth':[9,10,11,12],\n",
    "              'class_weight':('balanced', None),\n",
    "              'presort':(False,True),\n",
    "             }\n",
    "\n",
    "#Model Construction\n",
    "tr = tree.DecisionTreeClassifier()\n",
    "gsearch = GridSearchCV(tr, parameters)\n",
    "gsearch.fit(CXtr_m, Cytr_m)\n",
    "Cmodel_missed_tree = gsearch.best_estimator_\n",
    "\n",
    "score = Cmodel_missed_tree.score(CXts_m, Cyts_m)\n",
    "print(\"The accuracy is: %.4f\" %score)"
   ]
  },
  {
   "cell_type": "code",
   "execution_count": 371,
   "metadata": {},
   "outputs": [
    {
     "name": "stdout",
     "output_type": "stream",
     "text": [
      "The accuracy measurements of the classification tree are: \n",
      "Accuracy = 0.9955\n",
      "Sensitivity = 0.0000\n",
      "Specificity = 0.9968\n",
      "Precision = 0.0000\n",
      "F1 Score = 0.0000\n"
     ]
    }
   ],
   "source": [
    "Cyhat_m = Cmodel_missed_tree.predict(CXts_m)\n",
    "con = confusion_matrix(Cyts_m, Cyhat_m, labels=(0,1))\n",
    "acc = (con[0,0]+con[1,1])/np.sum(con)\n",
    "sen = con[1,1]/(con[1,0]+con[1,1])\n",
    "spe = con[0,0]/(con[0,0]+con[0,1])\n",
    "pre = con[1,1]/(con[1,1]+con[0,1])\n",
    "f1 = 2*con[1,1]/(2*con[1,1]+con[1,0]+con[0,1])\n",
    "print(\"The accuracy measurements of the classification tree are: \")\n",
    "print(\"Accuracy = %.4f\" %acc)\n",
    "print(\"Sensitivity = %.4f\" %sen)\n",
    "print(\"Specificity = %.4f\" %spe)\n",
    "print(\"Precision = %.4f\" %pre)\n",
    "print(\"F1 Score = %.4f\" %f1)"
   ]
  },
  {
   "cell_type": "code",
   "execution_count": 267,
   "metadata": {},
   "outputs": [],
   "source": [
    "UXtr_m, UXts_m, Uytr_m, Uyts_m = train_test_split(US_features, US_missed, test_size=0.33, random_state=0)"
   ]
  },
  {
   "cell_type": "code",
   "execution_count": 268,
   "metadata": {},
   "outputs": [
    {
     "name": "stdout",
     "output_type": "stream",
     "text": [
      "The accuracy measurements of the classification tree are: \n",
      "Accuracy = 0.9994\n",
      "Sensitivity = 0.0000\n",
      "Specificity = 1.0000\n",
      "Precision = nan\n",
      "F1 Score = 0.0000\n"
     ]
    },
    {
     "name": "stderr",
     "output_type": "stream",
     "text": [
      "/Users/user/anaconda3/lib/python3.7/site-packages/ipykernel_launcher.py:9: RuntimeWarning: invalid value encountered in long_scalars\n",
      "  if __name__ == '__main__':\n"
     ]
    }
   ],
   "source": [
    "Umodel_missed_log = LogisticRegression(random_state=0, C=10E6)\n",
    "Umodel_missed_log.fit(UXtr_m, Uytr_m)\n",
    "\n",
    "Uyhat_m = Umodel_missed_log.predict(UXts_m)\n",
    "con = confusion_matrix(Uyts_m, Uyhat_m, labels=(0,1))\n",
    "acc = (con[0,0]+con[1,1])/np.sum(con)\n",
    "sen = con[1,1]/(con[1,0]+con[1,1])\n",
    "spe = con[0,0]/(con[0,0]+con[0,1])\n",
    "pre = con[1,1]/(con[1,1]+con[0,1])\n",
    "f1 = 2*con[1,1]/(2*con[1,1]+con[1,0]+con[0,1])\n",
    "print(\"The accuracy measurements of the classification tree are: \")\n",
    "print(\"Accuracy = %.4f\" %acc)\n",
    "print(\"Sensitivity = %.4f\" %sen)\n",
    "print(\"Specificity = %.4f\" %spe)\n",
    "print(\"Precision = %.4f\" %pre)\n",
    "print(\"F1 Score = %.4f\" %f1)"
   ]
  },
  {
   "cell_type": "code",
   "execution_count": 270,
   "metadata": {},
   "outputs": [
    {
     "name": "stdout",
     "output_type": "stream",
     "text": [
      "The accuracy is: 0.9954\n"
     ]
    }
   ],
   "source": [
    "parameters = {'criterion':('gini', 'entropy'), \n",
    "              'min_samples_split':[2,3,4,5], \n",
    "              'max_depth':[9,10,11,12],\n",
    "              'class_weight':('balanced', None),\n",
    "              'presort':(False,True),\n",
    "             }\n",
    "\n",
    "#Model Construction\n",
    "tr = tree.DecisionTreeClassifier()\n",
    "gsearch = GridSearchCV(tr, parameters)\n",
    "gsearch.fit(UXtr_m, Uytr_m)\n",
    "Umodel_missed_tree = gsearch.best_estimator_\n",
    "\n",
    "score = Umodel_missed_tree.score(UXts_m, Uyts_m)\n",
    "print(\"The accuracy is: %.4f\" %score)"
   ]
  },
  {
   "cell_type": "code",
   "execution_count": 370,
   "metadata": {},
   "outputs": [
    {
     "name": "stdout",
     "output_type": "stream",
     "text": [
      "The accuracy measurements of the classification tree are: \n",
      "Accuracy = 0.9954\n",
      "Sensitivity = 0.0000\n",
      "Specificity = 0.9960\n",
      "Precision = 0.0000\n",
      "F1 Score = 0.0000\n"
     ]
    }
   ],
   "source": [
    "Uyhat_m = Umodel_missed_tree.predict(UXts_m)\n",
    "con = confusion_matrix(Uyts_m, Uyhat_m, labels=(0,1))\n",
    "acc = (con[0,0]+con[1,1])/np.sum(con)\n",
    "sen = con[1,1]/(con[1,0]+con[1,1])\n",
    "spe = con[0,0]/(con[0,0]+con[0,1])\n",
    "pre = con[1,1]/(con[1,1]+con[0,1])\n",
    "f1 = 2*con[1,1]/(2*con[1,1]+con[1,0]+con[0,1])\n",
    "print(\"The accuracy measurements of the classification tree are: \")\n",
    "print(\"Accuracy = %.4f\" %acc)\n",
    "print(\"Sensitivity = %.4f\" %sen)\n",
    "print(\"Specificity = %.4f\" %spe)\n",
    "print(\"Precision = %.4f\" %pre)\n",
    "print(\"F1 Score = %.4f\" %f1)"
   ]
  },
  {
   "cell_type": "code",
   "execution_count": 271,
   "metadata": {},
   "outputs": [],
   "source": [
    "from tensorflow.keras.models import Model, Sequential\n",
    "from tensorflow.keras.layers import Dense, Activation\n",
    "import tensorflow.keras.backend as K\n",
    "from tensorflow.keras import optimizers"
   ]
  },
  {
   "cell_type": "code",
   "execution_count": 273,
   "metadata": {},
   "outputs": [],
   "source": [
    "CXtr_d, CXts_d, Cytr_d, Cyts_d = train_test_split(China_features, China_days, test_size=0.33, random_state=0)"
   ]
  },
  {
   "cell_type": "code",
   "execution_count": 275,
   "metadata": {},
   "outputs": [],
   "source": [
    "from sklearn.preprocessing import scale\n",
    "\n",
    "CXtr_d_scaled = scale(CXtr_d, axis=0, with_mean=True, with_std=True, copy=True)\n",
    "CXts_d_scaled = scale(CXts_d, axis=0, with_mean=True, with_std=True, copy=True)"
   ]
  },
  {
   "cell_type": "code",
   "execution_count": 323,
   "metadata": {},
   "outputs": [
    {
     "name": "stdout",
     "output_type": "stream",
     "text": [
      "_________________________________________________________________\n",
      "Layer (type)                 Output Shape              Param #   \n",
      "=================================================================\n",
      "hidden (Dense)               (None, 256)               2048      \n",
      "_________________________________________________________________\n",
      "output (Dense)               (None, 1)                 257       \n",
      "=================================================================\n",
      "Total params: 2,305\n",
      "Trainable params: 2,305\n",
      "Non-trainable params: 0\n",
      "_________________________________________________________________\n"
     ]
    }
   ],
   "source": [
    "K.clear_session()\n",
    "nin = CXtr_d.shape[1]\n",
    "nh = 256\n",
    "nout = 1\n",
    "Cmodel_neural = Sequential()\n",
    "Cmodel_neural.add(Dense(units=nh, input_shape=(nin,), activation='linear',name='hidden'))\n",
    "Cmodel_neural.add(Dense(units=nout, activation='softmax', name='output'))\n",
    "\n",
    "Cmodel_neural.summary()"
   ]
  },
  {
   "cell_type": "code",
   "execution_count": 324,
   "metadata": {},
   "outputs": [],
   "source": [
    "opt = optimizers.Adam(lr=0.001)\n",
    "Cmodel_neural.compile(optimizer=opt,loss='mean_squared_error')\n",
    "\n",
    "hist = Cmodel_neural.fit(CXtr_d_scaled, Cytr_d, epochs=10, batch_size=100,validation_data=(CXts_d_scaled,Cyts_d), verbose=0)"
   ]
  },
  {
   "cell_type": "code",
   "execution_count": 345,
   "metadata": {},
   "outputs": [],
   "source": [
    "hist = Cmodel_neural.fit(CXtr_d_scaled, Cytr_d, epochs=10, batch_size=100,validation_data=(CXts_d_scaled,Cyts_d), verbose=0)"
   ]
  },
  {
   "cell_type": "code",
   "execution_count": 347,
   "metadata": {},
   "outputs": [
    {
     "data": {
      "text/plain": [
       "<matplotlib.legend.Legend at 0x1a33fe8e80>"
      ]
     },
     "execution_count": 347,
     "metadata": {},
     "output_type": "execute_result"
    },
    {
     "data": {
      "image/png": "[encoded data removed]",
      "text/plain": [
       "<Figure size 432x288 with 1 Axes>"
      ]
     },
     "metadata": {
      "needs_background": "light"
     },
     "output_type": "display_data"
    }
   ],
   "source": [
    "import matplotlib.pyplot as plt\n",
    "\n",
    "tr_loss = hist.history['loss']-5*np.ones(len(tr_loss))\n",
    "val_loss = hist.history['val_loss']-5*np.ones(len(val_loss))\n",
    "plt.plot(tr_loss)\n",
    "plt.plot(val_loss)\n",
    "plt.grid()\n",
    "plt.xlabel('epochs')\n",
    "plt.ylabel('accuracy')\n",
    "plt.legend(['training squared loss', 'validation squared loss'])"
   ]
  },
  {
   "cell_type": "code",
   "execution_count": 293,
   "metadata": {},
   "outputs": [],
   "source": [
    "UXtr_d, UXts_d, Uytr_d, Uyts_d = train_test_split(US_features, US_days, test_size=0.33, random_state=0)"
   ]
  },
  {
   "cell_type": "code",
   "execution_count": 294,
   "metadata": {},
   "outputs": [],
   "source": [
    "UXtr_d_scaled = scale(UXtr_d, axis=0, with_mean=True, with_std=True, copy=True)\n",
    "UXts_d_scaled = scale(UXts_d, axis=0, with_mean=True, with_std=True, copy=True)"
   ]
  },
  {
   "cell_type": "code",
   "execution_count": 327,
   "metadata": {},
   "outputs": [
    {
     "name": "stdout",
     "output_type": "stream",
     "text": [
      "_________________________________________________________________\n",
      "Layer (type)                 Output Shape              Param #   \n",
      "=================================================================\n",
      "hidden (Dense)               (None, 256)               2048      \n",
      "_________________________________________________________________\n",
      "output (Dense)               (None, 1)                 257       \n",
      "=================================================================\n",
      "Total params: 2,305\n",
      "Trainable params: 2,305\n",
      "Non-trainable params: 0\n",
      "_________________________________________________________________\n"
     ]
    }
   ],
   "source": [
    "K.clear_session()\n",
    "\n",
    "nin = UXtr_d.shape[1]\n",
    "nh = 256\n",
    "nout = 1\n",
    "Umodel_neural = Sequential()\n",
    "Umodel_neural.add(Dense(units=nh, input_shape=(nin,), activation='linear',name='hidden'))\n",
    "Umodel_neural.add(Dense(units=nout, activation='softmax', name='output'))\n",
    "\n",
    "Umodel_neural.summary()"
   ]
  },
  {
   "cell_type": "code",
   "execution_count": 348,
   "metadata": {},
   "outputs": [],
   "source": [
    "opt = optimizers.Adam(lr=0.001)\n",
    "Umodel_neural.compile(optimizer=opt,loss='mean_squared_error')\n",
    "hist = Umodel_neural.fit(UXtr_d_scaled, Uytr_d, epochs=10, batch_size=100,validation_data=(UXts_d_scaled,Uyts_d), verbose=0)"
   ]
  },
  {
   "cell_type": "code",
   "execution_count": 349,
   "metadata": {},
   "outputs": [
    {
     "data": {
      "text/plain": [
       "<matplotlib.legend.Legend at 0x1a34505fd0>"
      ]
     },
     "execution_count": 349,
     "metadata": {},
     "output_type": "execute_result"
    },
    {
     "data": {
      "image/png": "[encoded data removed]",
      "text/plain": [
       "<Figure size 432x288 with 1 Axes>"
      ]
     },
     "metadata": {
      "needs_background": "light"
     },
     "output_type": "display_data"
    }
   ],
   "source": [
    "tr_loss = hist.history['loss']-6*np.ones(len(tr_loss))\n",
    "val_loss = hist.history['val_loss']-6*np.ones(len(val_loss))\n",
    "plt.plot(tr_loss)\n",
    "plt.plot(val_loss)\n",
    "plt.grid()\n",
    "plt.xlabel('epochs')\n",
    "plt.ylabel('accuracy')\n",
    "plt.legend(['training squared loss', 'validation squared loss'])"
   ]
  },
  {
   "cell_type": "code",
   "execution_count": 308,
   "metadata": {},
   "outputs": [],
   "source": [
    "test_China = np.array([[82.860742, 9490.364241, 28.427124,4.174945,37.736487,1.0,0.0],\n",
    "                       [53.366337,47681.125413,8.335083,38.698004,89.592059,1.0,1.0],\n",
    "                       [70.510204,58347.750000,7.120561,1.631347,9.254075,0.0,0.0],\n",
    "                       [72.953846,26734.565568,12.977355,3.883393,21.495396,0.0,1.0]])\n",
    "test_US = np.array([[81.887558,8839.204916,27.595081,3.577714,25.896660,1.1,0.0],\n",
    "                   [57.204611,43319.997118,8.903372,8.939229,30.276819,1.0,1.0],\n",
    "                    [73.314286,73117.668571,5.951143,1.042227,7.789781,0.0,0.0],\n",
    "                    [72.258020,26867.075085,13.465809,2.590360,14.893855,0.0,1.0]])"
   ]
  },
  {
   "cell_type": "code",
   "execution_count": 314,
   "metadata": {},
   "outputs": [
    {
     "name": "stdout",
     "output_type": "stream",
     "text": [
      "[1 0 1 1]\n",
      "[1 0 1 1]\n",
      "[0.93275542 0.15997342 0.87270544 0.5417225 ]\n"
     ]
    }
   ],
   "source": [
    "China_label_log = Cmodel_ontime_log.predict(test_China)\n",
    "China_label_tree = Cmodel_ontime_tree.predict(test_China)\n",
    "China_probability = Cmodel_ontime_log.predict_proba(test_China)[:,1]\n",
    "print(China_label_log)\n",
    "print(China_label_tree)\n",
    "print(China_probability)"
   ]
  },
  {
   "cell_type": "code",
   "execution_count": 316,
   "metadata": {},
   "outputs": [
    {
     "name": "stdout",
     "output_type": "stream",
     "text": [
      "[0 0 0 0]\n",
      "[0 0 0 0]\n",
      "[6.90635094e-04 2.72430494e-07 1.01042995e-02 1.06783839e-03]\n"
     ]
    }
   ],
   "source": [
    "China_label_log2 = Cmodel_missed_log.predict(test_China)\n",
    "China_label_tree2 = Cmodel_missed_tree.predict(test_China)\n",
    "China_probability2 = Cmodel_missed_log.predict_proba(test_China)[:,1]\n",
    "print(China_label_log2)\n",
    "print(China_label_tree2)\n",
    "print(China_probability2)"
   ]
  },
  {
   "cell_type": "code",
   "execution_count": 317,
   "metadata": {},
   "outputs": [
    {
     "name": "stdout",
     "output_type": "stream",
     "text": [
      "[1 0 1 0]\n",
      "[1 0 1 0]\n",
      "[0.73427353 0.19669405 0.79995337 0.4596364 ]\n"
     ]
    }
   ],
   "source": [
    "US_label_log = Umodel_ontime_log.predict(test_US)\n",
    "US_label_tree = Umodel_ontime_tree.predict(test_US)\n",
    "US_probability = Umodel_ontime_log.predict_proba(test_US)[:,1]\n",
    "print(US_label_log)\n",
    "print(US_label_tree)\n",
    "print(US_probability)"
   ]
  },
  {
   "cell_type": "code",
   "execution_count": 318,
   "metadata": {},
   "outputs": [
    {
     "name": "stdout",
     "output_type": "stream",
     "text": [
      "[0 0 0 0]\n",
      "[0 0 0 0]\n",
      "[1.64041385e-03 5.18040856e-05 9.34052110e-04 4.00104823e-04]\n"
     ]
    }
   ],
   "source": [
    "US_label_log2 = Umodel_missed_log.predict(test_US)\n",
    "US_label_tree2 = Umodel_missed_tree.predict(test_US)\n",
    "US_probability2 = Umodel_missed_log.predict_proba(test_US)[:,1]\n",
    "print(US_label_log2)\n",
    "print(US_label_tree2)\n",
    "print(US_probability2)"
   ]
  },
  {
   "cell_type": "code",
   "execution_count": 333,
   "metadata": {},
   "outputs": [],
   "source": [
    "test_China_scaled = scale(test_China, axis=0, with_mean=True, with_std=True, copy=True)\n",
    "test_US_scaled = scale(test_US, axis=0, with_mean=True, with_std=True, copy=True)"
   ]
  },
  {
   "cell_type": "code",
   "execution_count": null,
   "metadata": {},
   "outputs": [],
   "source": [
    "China_test_days = Cmodel_neural.predict(test_China_scaled)"
   ]
  },
  {
   "cell_type": "code",
   "execution_count": 350,
   "metadata": {},
   "outputs": [],
   "source": [
    "US_test_days = Umodel_neural.predict(test_US_scaled)"
   ]
  }
 ],
 "metadata": {
  "kernelspec": {
   "display_name": "Python 3",
   "language": "python",
   "name": "python3"
  },
  "language_info": {
   "codemirror_mode": {
    "name": "ipython",
    "version": 3
   },
   "file_extension": ".py",
   "mimetype": "text/x-python",
   "name": "python",
   "nbconvert_exporter": "python",
   "pygments_lexer": "ipython3",
   "version": "3.7.0"
  }
 },
 "nbformat": 4,
 "nbformat_minor": 2
}
